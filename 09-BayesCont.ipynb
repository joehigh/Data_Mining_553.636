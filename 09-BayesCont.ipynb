{
 "cells": [
  {
   "cell_type": "markdown",
   "metadata": {
    "slideshow": {
     "slide_type": "slide"
    }
   },
   "source": [
    "<hr/>\n",
    "\n",
    "# Data Mining [EN.550.436]\n",
    "**Tamás Budavári** - budavari@jhu.edu <br/>\n",
    "**Class 9** - Oct 5, 2016\n",
    "\n",
    "- Bayesian inference recap\n",
    "- Sampling from posterior\n",
    "- Marginal likelihood\n",
    "- Model comparison\n",
    "\n",
    "<hr/>"
   ]
  },
  {
   "cell_type": "markdown",
   "metadata": {},
   "source": [
    "<h1><font color=\"darkblue\">Bayesian Inference</font></h1>\n",
    "\n",
    "Rev. Thomas Bayes (c.1701-1761)\n",
    "\n",
    "<img src=https://upload.wikimedia.org/wikipedia/commons/d/d4/Thomas_Bayes.gif align=left height=200>\n"
   ]
  },
  {
   "cell_type": "markdown",
   "metadata": {
    "slideshow": {
     "slide_type": "slide"
    }
   },
   "source": [
    "### Probabilitistic Models\n",
    "- From data $D$ we infer the parameters $\\theta$ of model $M$ \n",
    "\n",
    ">$\\displaystyle p(\\theta|D,M) = \\frac{p(\\theta|M)\\ p(D|\\theta,M)}{p(D|M)}$ \n",
    "\n",
    "> or\n",
    "\n",
    ">$\\displaystyle p(\\theta) = \\frac{\\pi(\\theta)\\,{\\cal{}L}(\\theta)}{\\int \\pi(\\theta)\\,{\\cal{}L}(\\theta)\\ d\\theta }$\n",
    "\n",
    "- Recall posterior, prior, likelihood, normalization"
   ]
  },
  {
   "cell_type": "markdown",
   "metadata": {
    "slideshow": {
     "slide_type": "slide"
    }
   },
   "source": [
    "### Likelihood Function\n",
    "- A set of independent measurements\n",
    "\n",
    ">$\\displaystyle D = \\Big\\{x_i\\Big\\}_{i=1}^N$\n",
    "\n",
    "- The likelihood function is a product \n",
    "\n",
    ">$\\displaystyle {\\cal L}_D(\\theta) = p(D|\\theta) = p(\\{x_i\\}|\\theta) = \\prod_{i=1}^N f(x_{i};\\theta) = \\prod_{i=1}^N \\ell_{i}(\\theta)$\n",
    "\n",
    "- Maximum Likelihood Estimation (MLE) \n",
    "\n",
    " - Gaussians cf. method of least squares"
   ]
  },
  {
   "cell_type": "markdown",
   "metadata": {
    "slideshow": {
     "slide_type": "slide"
    }
   },
   "source": [
    "### Multiple Datasets\n",
    "\n",
    "- If the data set $D$ consists of two subsets of $D_1$ and $D_2$, we can consider them together or separately\n",
    "\n",
    ">$\\displaystyle p(\\theta|D_1 D_2) = \\frac{p(\\theta)\\, p(D_1 D_2|\\theta)}{p(D_1 D_2)}$\n",
    "\n",
    "> also \n",
    "\n",
    "\n",
    ">$\\displaystyle p(\\theta|D_1 D_2) = \\frac{p(\\theta|D_1)\\, p(D_2|\\theta, D_1)}{p(D_2|D_1)}$\n",
    "\n",
    "\n",
    "\n",
    "\n",
    "- Because\n",
    "\n",
    ">$\\displaystyle p(\\theta|D) = p(\\theta|\\color{green}{D_1} \\color{red}{D_2}) = \\frac{p(\\theta|\\color{green}{D_1})\\, p(\\color{red}{D_2}|\\theta, \\color{green}{D_1})}{p(\\color{red}{D_2}|\\color{green}{D_1})}$\n",
    ">$\\displaystyle = \\frac{p(\\theta)\\,p(\\color{green}{D_1}|\\theta)\\, p(\\color{red}{D_2}|\\theta, \\color{green}{D_1})}{p(\\color{green}{D_1})\\,p(\\color{red}{D_2}|\\color{green}{D_1})}$\n",
    ">$\\displaystyle = \\frac{p(\\theta)\\,p(\\color{green}{D_1}\\color{red}{D_2}|\\theta)}{p(\\color{green}{D_1} \\color{red}{D_2})}$\n",
    ">$\\displaystyle = \\frac{p(\\theta)\\,p(D|\\theta)}{p(D)}$\n",
    "\n",
    "- Incremental learning\n"
   ]
  },
  {
   "cell_type": "markdown",
   "metadata": {},
   "source": [
    ">$\\displaystyle D = \\big\\{ \\color{green}{D_1},\\ \\color{red}{D_2},\\ \\color{darkblue}{D_3}, \\dots \\color{black}{D_N} \\big\\}$"
   ]
  },
  {
   "cell_type": "markdown",
   "metadata": {
    "slideshow": {
     "slide_type": "slide"
    }
   },
   "source": [
    "### Characterization of Posterior PDF\n",
    "\n",
    "- Mode, Mean, Covariance, etc... For example,\n",
    "\n",
    ">$ \\displaystyle \\bar{\\theta} = \\int {\\color{default}\\theta}\\ p(\\theta)\\ d\\theta$\n",
    ">$ \\displaystyle =  \\frac{\\int \\theta\\,\\pi(\\theta)\\,{\\cal{}L}(\\theta)\\,d\\theta}{\\int \\pi(\\theta)\\,{\\cal{}L}(\\theta)\\,d\\theta }$\n",
    "\n",
    "\n",
    "- In general, numerical evaluation is required \n",
    "\n",
    "> Randomized algorithms;\n",
    "> Sampling from distributions\n",
    "\n",
    "\n"
   ]
  },
  {
   "cell_type": "markdown",
   "metadata": {
    "collapsed": true,
    "slideshow": {
     "slide_type": "slide"
    }
   },
   "source": [
    "### Caution!\n",
    "\n",
    "- Noisy likelihood function with false peak(s)\n",
    " \n",
    "> Misleading MLE by an erroneous spike?\n",
    " \n",
    "- Mean could be completely off\n",
    "\n",
    "> E.g., center of a ring "
   ]
  },
  {
   "cell_type": "markdown",
   "metadata": {
    "slideshow": {
     "slide_type": "slide"
    }
   },
   "source": [
    "### Sampling \n",
    "\n",
    "- How to calculate an integral such as\n",
    "\n",
    ">$ \\displaystyle \\langle f(\\theta)\\rangle  =  \\int f(\\theta)\\,p(\\theta)\\,d\\theta $\n",
    "\n",
    "- Approximation using $\\{\\theta_i\\}$ sample from $p(\\cdot)$\n",
    "\n",
    ">$ \\displaystyle \\langle f(\\theta)\\rangle \\approx \\frac{1}{n}\\sum_{i=1}^{n} f(\\theta_i) $\n",
    "\n",
    "- But we really don't know the posterior that well!"
   ]
  },
  {
   "cell_type": "markdown",
   "metadata": {
    "slideshow": {
     "slide_type": "slide"
    }
   },
   "source": [
    "### Sampling from Prior\n",
    "\n",
    "- Prior is better known \n",
    "\n",
    "> $ \\displaystyle \\langle f(\\theta)\\rangle =$\n",
    ">$ \\displaystyle \\frac{\\int f(\\theta)\\,\\pi(\\theta)\\,{\\cal{}L}(\\theta)\\,d\\theta}{\\int \\pi(\\theta)\\,{\\cal{}L}(\\theta)\\,d\\theta }$\n",
    "\n",
    "\n",
    "- Approximation using $\\{\\theta_i\\}$ sample from $\\pi(\\cdot)$\n",
    "\n",
    ">$ \\displaystyle \\langle f(\\theta)\\rangle \\approx \\frac{\\sum f(\\theta_i)\\,{\\cal{}L}(\\theta_i)}{\\sum {\\cal{}L}(\\theta_i)} $"
   ]
  },
  {
   "cell_type": "markdown",
   "metadata": {
    "slideshow": {
     "slide_type": "slide"
    }
   },
   "source": [
    "### Sampling from ...\n",
    "\n",
    "- E.g., likelihood?\n",
    "\n",
    ">$ \\displaystyle \\langle f(\\theta)\\rangle \\approx \\frac{\\sum f(\\theta_i)\\,\\pi(\\theta_i)}{\\sum \\pi(\\theta_i)} $\n",
    "\n",
    "- What about something \"similar\"?"
   ]
  },
  {
   "cell_type": "markdown",
   "metadata": {
    "slideshow": {
     "slide_type": "slide"
    }
   },
   "source": [
    "### Importance Sampling\n",
    "\n",
    "- We usually have integrals such as\n",
    "\n",
    ">$ \\displaystyle \\langle f(\\theta)\\rangle = \\int f(\\theta)\\,g(\\theta)\\,d\\theta$\n",
    "\n",
    "- If we can't sample from $g(\\cdot)$ but can from a $h(\\cdot)$ \n",
    "\n",
    "> s.t. $\\ \\ \\ g(\\theta) \\leq K \\cdot h(\\theta) \\ \\ \\ $ for any $\\theta$ and a suitably large $K$\n",
    "\n",
    ">$\\displaystyle \\langle f(\\theta)\\rangle \\approx \\frac{1}{n} \\sum_i^n f(\\theta_i)\\,\\frac{g(\\theta_i)}{h(\\theta_i)}$"
   ]
  },
  {
   "cell_type": "markdown",
   "metadata": {
    "slideshow": {
     "slide_type": "slide"
    }
   },
   "source": [
    "### Markov-chain Monte Carlo a.k.a. MCMC\n",
    "\n",
    "- Instead of independent samples, produce a chain of samples in a special way\n",
    "\n",
    "> **Metropolis-Hastings**\n",
    "> 0. Start from a random $\\theta_t = \\theta_0$ parameter set\n",
    "> 0. Obtain a new $\\theta'$ from a proposal distribution $Q(\\theta;\\theta_t)$\n",
    "> 0. Accept $\\theta_{t+1} = \\theta'$ with probability $g(\\theta')/g(\\theta_t)$\n",
    "> 0. Let $t\\leftarrow t\\!+\\!1$ and go to Step 2.\n",
    "\n",
    "- Use the samples of the chain as if taken from the posterior PDF\n",
    "\n",
    "  - Many other variants \n",
    "\n",
    "  - Watch out for burn in, correlations, etc..."
   ]
  },
  {
   "cell_type": "markdown",
   "metadata": {
    "slideshow": {
     "slide_type": "slide"
    }
   },
   "source": [
    "<img src=https://upload.wikimedia.org/wikipedia/commons/a/a6/3dRosenbrock.png width=400 align=left>"
   ]
  },
  {
   "cell_type": "markdown",
   "metadata": {
    "slideshow": {
     "slide_type": "slide"
    }
   },
   "source": [
    "### Model Comparison\n",
    "\n",
    "- Bayesian hypothesis testing\n",
    "\n",
    "> Posterior probability of a model given the data vs another (odds)\n",
    "\n",
    ">$\\displaystyle \\frac{P(M_1|D)}{P(M_2|D)} = \\frac{P(M_1)\\ p(D|M_1)\\,/\\,p(D)}{P(M_2)\\ p(D|M_2)\\,/\\,p(D)}$\n",
    ">$\\displaystyle = \\frac{P(M_1)}{P(M_2)} \\frac{p(D|M_1)}{p(D|M_2)}$\n",
    "\n",
    ">$\\displaystyle \\ \\ \\ \\ = \\frac{P(M_1)}{P(M_2)}\\times B(M_1,M_2|D)$\n",
    "\n",
    "> Posterior odds $=$ Prior odds $\\times$ the Bayes factor\n"
   ]
  },
  {
   "cell_type": "markdown",
   "metadata": {
    "slideshow": {
     "slide_type": "slide"
    }
   },
   "source": [
    "### Marginal Likelihood\n",
    "\n",
    "- Integral over all parameters\n",
    "\n",
    ">$\\displaystyle p(D|M) = \\int  p(\\theta|M)\\ p(D|\\theta,M) d\\theta$ \n",
    "\n",
    "\n",
    "> Cf. Bayes' rule\n",
    "\n",
    ">$\\displaystyle p(\\theta|D,M) = \\frac{p(\\theta|M)\\ p(D|\\theta,M)}{p(D|M)}$ \n",
    "\n",
    "- No improper prior here!"
   ]
  },
  {
   "cell_type": "markdown",
   "metadata": {
    "slideshow": {
     "slide_type": "slide"
    }
   },
   "source": [
    "### Complementer Hypotheses\n",
    "\n",
    "- I.e., $P(M_1) + P(M_2) = 1$ also $P(M_1|D) + P(M_2|D) = 1$ \n",
    "\n",
    "> Let $P$ represent $P(M_1|D)$ and $P_0$ be $P(M_1)$\n",
    "\n",
    ">$\\displaystyle \\frac{P}{1-P} = \\frac{P_0}{1-P_0} B$\n",
    "\n",
    "> Hence\n",
    "\n",
    ">$\\displaystyle P = \\left[ 1 + \\frac{1-P_0}{P_0 B} \\right]^{-1}   $\n"
   ]
  },
  {
   "cell_type": "code",
   "execution_count": 1,
   "metadata": {},
   "outputs": [
    {
     "name": "stdout",
     "output_type": "stream",
     "text": [
      "Populating the interactive namespace from numpy and matplotlib\n"
     ]
    },
    {
     "data": {
      "image/png": "[encoded data removed]",
      "text/plain": [
       "<matplotlib.figure.Figure at 0x6b27d68>"
      ]
     },
     "metadata": {},
     "output_type": "display_data"
    }
   ],
   "source": [
    "%pylab inline\n",
    "# Posterior as fn of ln(B)\n",
    "logB = np.linspace(-6,6,100) \n",
    "B = np.exp(logB)\n",
    "P0 = 0.5\n",
    "P = 1 / (1 + (1-P0)/(P0*B)) \n",
    "plt.plot(logB, P,'-'); \n",
    "# sigmoid function cf. neural networks\n",
    "xlabel('Log of Bayes factor'); ylabel('Posterior'); title('Prior: 1/2');"
   ]
  },
  {
   "cell_type": "code",
   "execution_count": null,
   "metadata": {
    "collapsed": true
   },
   "outputs": [],
   "source": []
  }
 ],
 "metadata": {
  "celltoolbar": "Slideshow",
  "kernelspec": {
   "display_name": "Python 3",
   "language": "python",
   "name": "python3"
  },
  "language_info": {
   "codemirror_mode": {
    "name": "ipython",
    "version": 3
   },
   "file_extension": ".py",
   "mimetype": "text/x-python",
   "name": "python",
   "nbconvert_exporter": "python",
   "pygments_lexer": "ipython3",
   "version": "3.7.4"
  }
 },
 "nbformat": 4,
 "nbformat_minor": 1
}
