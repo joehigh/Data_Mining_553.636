{
 "cells": [
  {
   "cell_type": "markdown",
   "metadata": {
    "slideshow": {
     "slide_type": "slide"
    }
   },
   "source": [
    "<hr/>\n",
    "\n",
    "#Data Mining [EN.550.436]\n",
    "**Tamás Budavári** - budavari@jhu.edu <br/>\n",
    "**Class 3** - Sept 14, 2016\n",
    "\n",
    "- Sampling from distributions\n",
    "- Density estimation\n",
    "- Correlations and dependence\n",
    "<hr/>\n"
   ]
  },
  {
   "cell_type": "markdown",
   "metadata": {
    "slideshow": {
     "slide_type": "slide"
    }
   },
   "source": [
    "<h1><font color=\"darkblue\">Samples, PDFs in 1- and 2-D</font></h1>\n",
    "\n"
   ]
  },
  {
   "cell_type": "code",
   "execution_count": null,
   "metadata": {
    "collapsed": true
   },
   "outputs": [],
   "source": []
  },
  {
   "cell_type": "code",
   "execution_count": null,
   "metadata": {
    "collapsed": true
   },
   "outputs": [],
   "source": []
  },
  {
   "cell_type": "markdown",
   "metadata": {},
   "source": [
    "### Descriptive Statistics\n",
    "- Characterization of location, dispersion, etc.\n",
    "\n",
    "| | Sample Estimates <font color=\"white\">(notations)</font> | Probabilisty Density Functions   |\n",
    "|--|--------------|-------------|\n",
    "| **Average** | $\\displaystyle\\ \\bar{x}=\\frac{1}{N}\\sum_{i=1}^N x_i = \\big\\langle x_i \\big\\rangle_{i=1}^N$ | $\\displaystyle\\ \\mu = \\mathbb{E}[X] =\\!\\int\\!x\\,p(x)dx$| \n",
    "| **Variance** | $\\displaystyle\\ s^2=\\frac{1}{N\\!-\\!1}\\sum_{i=1}^N \\big(x_i\\!-\\!\\bar{x}\\big)^2 $|  $\\displaystyle\\ \\mathbb{Var}[X] = \\int (x\\!-\\!\\mu)^2 p(x)dx$| \n",
    "\n",
    "- Useful connection to sampling"
   ]
  },
  {
   "cell_type": "markdown",
   "metadata": {},
   "source": [
    "### Sampling from distributions\n",
    "\n",
    "- Uniform between $a$ and $b$: scale and shift\n",
    "\n",
    ">$\\displaystyle U_{ab} = a + (b\\!-\\!a)\\,U_{01} $\n",
    "\n",
    "- Inverse transform sampling in $\\mathbb{R}$\n",
    "\n",
    ">$\\displaystyle X = \\mathrm{CDF}^{-1}(U_{01}) $"
   ]
  },
  {
   "cell_type": "markdown",
   "metadata": {},
   "source": [
    "<img src=\"files/inv.png\" height=\"400\" width=\"400\" align=left>"
   ]
  },
  {
   "cell_type": "markdown",
   "metadata": {},
   "source": [
    "- Rejection sampling in $\\mathbb{R}^N$, see animation\n",
    "\n",
    "<img src=\"files/anim.gif\" align=left>\n",
    "<!--<img src=\"http://dl.dropbox.com/u/27415200/anim.gif\">-->"
   ]
  },
  {
   "cell_type": "markdown",
   "metadata": {},
   "source": [
    "\n",
    "### Numerical Methods\n",
    "If the $\\left\\{x_i\\right\\}$ set is sampled from the probability density function $p(\\cdot)$,\n",
    "the following will be true:\n",
    "- Average\n",
    "\n",
    ">$\\displaystyle\\mathbb{E}[X] =\\!\\int x\\ p(x)\\,dx  \\ \\approx\\ \\frac{1}{N}\\sum_i x_i $\n",
    "\n",
    "- Variance\n",
    "\n",
    ">$\\displaystyle\\mathbb{E}[(X\\!-\\!\\mu)^2]=\\int (x\\!-\\!\\mu)^2\\ p(x)\\,dx \\approx \\frac{1}{N}\\sum_i (x_i\\!-\\!\\mu)^2$\n",
    "\n",
    "> compare to\n",
    " \n",
    ">$\\displaystyle\\ s^2=\\frac{1}{N\\!-\\!1}\\sum_{i=1}^N \\big(x_i\\!-\\!\\bar{x}\\big)^2 $\n",
    "\n",
    "> Bessel correction: $N\\!-\\!1$ independent $(x_i\\!-\\!\\bar{x})$ differences\n",
    "\n",
    ">$\\displaystyle \\sum_{i=1}^N (x_i\\!-\\!\\bar{x}) =\\ ???$ <font color=\"white\">.... 0 ...</font>\n"
   ]
  },
  {
   "cell_type": "code",
   "execution_count": 1,
   "metadata": {
    "collapsed": false
   },
   "outputs": [
    {
     "name": "stdout",
     "output_type": "stream",
     "text": [
      "Populating the interactive namespace from numpy and matplotlib\n"
     ]
    }
   ],
   "source": [
    "%pylab inline \n",
    "from scipy.stats import norm as gaussian"
   ]
  },
  {
   "cell_type": "code",
   "execution_count": 6,
   "metadata": {
    "collapsed": false
   },
   "outputs": [
    {
     "data": {
      "text/plain": [
       "(1.4052975816564675, 1.3331823445082687, 1.352051811607154)"
      ]
     },
     "execution_count": 6,
     "metadata": {},
     "output_type": "execute_result"
    }
   ],
   "source": [
    "# generate sample with size N\n",
    "mu, sigma, N = 0, 1, 10\n",
    "x = gaussian.rvs(mu, sigma, N)\n",
    "\n",
    "avg = np.mean(x)\n",
    "# variance estimates\n",
    "s2   = np.sum( (x-avg)**2 ) /(N-1)  # correct,unbiased\n",
    "s2n  = np.sum( (x-avg)**2 ) / N     # biased\n",
    "s2k  = np.sum( (x- mu)**2 ) / N     # known mean,best estimator\n",
    "# standard deviation estimates\n",
    "sqrt(s2), sqrt(s2n), sqrt(s2k) "
   ]
  },
  {
   "cell_type": "code",
   "execution_count": 7,
   "metadata": {
    "collapsed": false
   },
   "outputs": [
    {
     "data": {
      "text/plain": [
       "((5L, 10000L), (10000L,))"
      ]
     },
     "execution_count": 7,
     "metadata": {},
     "output_type": "execute_result"
    }
   ],
   "source": [
    "# generate M runs with N samples each\n",
    "mu, sigma, N, M = 99, 1, 5, 10000\n",
    "X = gaussian.rvs(loc=mu, scale=sigma, size=(N,M))  #show another way to set function paras, N 行 M 列\n",
    "avg = np.mean(X, axis=0)   #竖着求\n",
    "X.shape, avg.shape"
   ]
  },
  {
   "cell_type": "code",
   "execution_count": 8,
   "metadata": {
    "collapsed": false
   },
   "outputs": [
    {
     "data": {
      "text/plain": [
       "(0.92975786232907209, 0.83160071311307859, 0.98517106185907466)"
      ]
     },
     "execution_count": 8,
     "metadata": {},
     "output_type": "execute_result"
    }
   ],
   "source": [
    "# variance estimates - check out broadcasting in X-avg\n",
    "s2   = np.sum( (X-avg)**2, axis=0) /(N-1) # correct\n",
    "s2n  = np.sum( (X-avg)**2, axis=0) / N    # biased\n",
    "s2k  = np.sum( (X- mu)**2, axis=0) / N    # known mean\n",
    "\n",
    "# standard deviation estimates\n",
    "s, sn, sk = sqrt(s2), sqrt(s2n), sqrt(s2k)   #10000列的向量，等于跑了10000次\n",
    "mean(s), mean(sn), mean(s2k)"
   ]
  },
  {
   "cell_type": "code",
   "execution_count": 10,
   "metadata": {
    "collapsed": false
   },
   "outputs": [
    {
     "data": {
      "image/png": "[encoded data removed]",
      "text/plain": [
       "<matplotlib.figure.Figure at 0x8bda860>"
      ]
     },
     "metadata": {},
     "output_type": "display_data"
    }
   ],
   "source": [
    "hist(s , 41, range=[0,2], color='r', alpha=0.5);\n",
    "hist(sn, 41, range=[0,2], color='b', alpha=0.5);"
   ]
  },
  {
   "cell_type": "markdown",
   "metadata": {},
   "source": [
    "### Density Estimation\n",
    "- Histograms\n",
    "    - Width of bins, $h$\n",
    "    - Start of bin boundary, $x_0$\n",
    "\n",
    " >$\\displaystyle \\mathrm{Hist}(x) \\propto \\frac{1}{N}\\sum_i \\mathbb{1}_{\\mathrm{bin}(x_i;x_0,h)}(x)$\n",
    "        \n",
    "- Kernel Density Estimation (KDE)\n",
    "    - Bandwidth $h$\n",
    "   \n",
    " >$\\displaystyle \\mathrm{KDE}(x) = \\frac{1}{N}\\sum_i K_h(x\\!-\\!x_i) = \\frac{1}{Nh}\\sum_i K\\left(\\frac{x\\!-\\!x_i}{h}\\right)$\n",
    "   \n",
    "    - Can use different $K(\\cdot)$ kernel functions\n",
    "        - E.g., Uniform, Triangular, Gauss, Epanechnikov\n",
    "\n",
    "See animations at\n",
    "http://www.mglerner.com/blog/?p=28\n"
   ]
  },
  {
   "cell_type": "markdown",
   "metadata": {},
   "source": [
    "### Kernel Function\n",
    "- Finite vs Infinite support\n",
    "- Numerical evaluations\n",
    "- Frequently used kernels\n",
    "\n",
    "<img src=\"https://upload.wikimedia.org/wikipedia/commons/4/47/Kernels.svg\" alt=\"All of the above kernels in a common coordinate system\"  width=\"350\" align=left>\n",
    "\n"
   ]
  },
  {
   "cell_type": "markdown",
   "metadata": {},
   "source": [
    "Learn more about KDE \n",
    "[here](https://jakevdp.github.io/blog/2013/12/01/kernel-density-estimation/) and also check out Bayesian Blocks \n",
    "[here](https://jakevdp.github.io/blog/2012/09/12/dynamic-programming-in-python/)\n",
    "<br>\n",
    "&mdash; tutorials by Jake Vanderplas"
   ]
  },
  {
   "cell_type": "markdown",
   "metadata": {},
   "source": [
    "### Detour: Dirac delta\n",
    "\n",
    "- In the limit of $h\\rightarrow{}0$, the kernel will become strange:\n",
    "\n",
    "<img src=\"files/488px-Dirac_distribution_PDF.svg.png\" align=right width=250>\n",
    "\n",
    "> **Dirac's $\\delta$** \"function\" is 0 everywhere except at 0 such that\n",
    "\n",
    "> $\\displaystyle \\int \\delta(x)\\,dx = 1$\n",
    "\n",
    "- Interesting properties, e.g., \n",
    "\n",
    "> $\\displaystyle \\int f(x)\\,\\delta(x\\!-\\!a)\\,dx = f(a)$\n",
    "\n",
    "-  See **distribution theory** and **functionals** for more background"
   ]
  },
  {
   "cell_type": "markdown",
   "metadata": {},
   "source": [
    "### An interesting result \n",
    "\n",
    "- Bad density estimation but if...\n",
    "\n",
    "> $\\displaystyle p(x) = \\frac{1}{N} \\sum_{i=1}^N \\delta(x\\!-\\!x_i)$\n",
    "\n",
    "- The expectation value\n",
    "\n",
    "> $\\displaystyle \\mathbb{E}[X] =  \\int x\\, \\frac{1}{N} \\sum_{i=1}^N  \\delta(x\\!-\\!x_i) \\,dx$\n",
    "\n",
    "> $\\displaystyle \\mathbb{E}[X] = \\frac{1}{N} \\sum_{i=1}^N \\int x\\, \\delta(x\\!-\\!x_i) \\,dx$\n",
    "\n",
    "> $\\displaystyle \\mathbb{E}[X] = \\frac{1}{N} \\sum_{i=1}^N x_i$\n",
    "\n"
   ]
  },
  {
   "cell_type": "markdown",
   "metadata": {},
   "source": [
    "### Unhomework\n",
    "\n",
    "0. Sample from a mixture of two Gaussians using uniform random numbers in the [0,1) interval. Try different $(\\mu_1, \\sigma_1)$ and $(\\mu_2,\\sigma_2$) values!\n",
    "0. Build different density estimators and compare to the original PDF. Try histogramming and KDE with different parameters."
   ]
  },
  {
   "cell_type": "markdown",
   "metadata": {},
   "source": [
    "### Dependence\n",
    "- Consider random variables $X$, $Y\\in\\mathbb{R}$\n",
    "\n",
    "> We can look at them separately but ...\n",
    ">\n",
    "> Are they \"related\" at all?\n",
    "\n",
    "- Dependent variables\n",
    "\n",
    ">$\\displaystyle P(X Y) \\neq P(X)\\,P(Y)$ \n",
    "> \n",
    ">More on this later..."
   ]
  },
  {
   "cell_type": "markdown",
   "metadata": {},
   "source": [
    "### Covariance\n",
    "\n",
    "- Definition \n",
    "\n",
    ">$\\displaystyle \\mathbb{Cov}[X,Y]=\\mathbb{E}\\Big[\\big(X-\\mathbb{E}[X]\\big)\\big(Y-\\mathbb{E}[Y]\\big)\\Big]$  \n",
    ">\n",
    "> Other notations: $\\mathrm{C}_{X,Y}$, $\\sigma(X,Y)$, ...\n",
    "\n",
    "- Sample covariance\n",
    "\n",
    ">$\\displaystyle C = \\frac{1}{N\\!-\\!1}\\sum_{i=1}^N (x_i-\\bar{x})(y_i-\\bar{y})$"
   ]
  },
  {
   "cell_type": "markdown",
   "metadata": {},
   "source": [
    "### Correlation\n",
    "\n",
    "- Definition\n",
    "\n",
    ">$\\displaystyle \\mathbb{Corr}[X,Y] = \\frac{\\mathbb{Cov}[X,Y]}{\\sqrt{\\mathbb{Var}[X]\\, \\mathbb{Var}[Y]}}$\n",
    ">\n",
    "> Takes values in $[-1,1]$ (Cauchy-Schwartz inequality)\n",
    ">\n",
    "> Other notations: $\\rho$, $r$, ...\n",
    "\n",
    "- Sample correlation\n",
    "\n",
    "> ..."
   ]
  },
  {
   "cell_type": "markdown",
   "metadata": {},
   "source": [
    "### Examples\n",
    "\n",
    "<img src=\"files/Correlation_coefficient.png\" width=500 align=\"left\">"
   ]
  },
  {
   "cell_type": "markdown",
   "metadata": {},
   "source": [
    "### Quiz\n",
    "\n",
    "1) If $X$ and $Y$ are independent, are they also uncorrelated?\n",
    "\n",
    "        [ ] Yes      [ ] No\n",
    "        \n",
    "2) If $X$ and $Y$ are uncorrelated, are they also independent?\n",
    "\n",
    "        [ ] Yes      [ ] No"
   ]
  },
  {
   "cell_type": "code",
   "execution_count": null,
   "metadata": {
    "collapsed": true
   },
   "outputs": [],
   "source": []
  }
 ],
 "metadata": {
  "anaconda-cloud": {},
  "kernelspec": {
   "display_name": "Python [Root]",
   "language": "python",
   "name": "Python [Root]"
  },
  "language_info": {
   "codemirror_mode": {
    "name": "ipython",
    "version": 2
   },
   "file_extension": ".py",
   "mimetype": "text/x-python",
   "name": "python",
   "nbconvert_exporter": "python",
   "pygments_lexer": "ipython2",
   "version": "2.7.12"
  }
 },
 "nbformat": 4,
 "nbformat_minor": 0
}
