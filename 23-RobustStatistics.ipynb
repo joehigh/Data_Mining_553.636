{
 "cells": [
  {
   "cell_type": "markdown",
   "metadata": {
    "slideshow": {
     "slide_type": "slide"
    }
   },
   "source": [
    "<hr/>\n",
    "\n",
    "# Data Mining [EN.550.436]\n",
    "**Tamás Budavári** - budavari@jhu.edu <br/>\n",
    "**Class 23** - Dec 5, 2016\n",
    "\n",
    "- Location, dispersion\n",
    "- Robust statistics, M-estimation\n",
    "\n",
    "<hr/>"
   ]
  },
  {
   "cell_type": "markdown",
   "metadata": {
    "slideshow": {
     "slide_type": "slide"
    }
   },
   "source": [
    "<h1><font color=\"darkblue\">Robust Statistics</font></h1>"
   ]
  },
  {
   "cell_type": "markdown",
   "metadata": {},
   "source": [
    "### Datasets\n",
    "\n",
    "- For example, a set of $n$ scalar measurements \n",
    "\n",
    "> $\\displaystyle D = \\big\\{x_i: \\ i=1\\dots{}n\\big\\} $"
   ]
  },
  {
   "cell_type": "markdown",
   "metadata": {},
   "source": [
    "### How to characterize the data?\n",
    "- Location\n",
    "- Dispersion\n",
    "- Shape?"
   ]
  },
  {
   "cell_type": "markdown",
   "metadata": {},
   "source": [
    "### Maximum Likelihood Estimation\n",
    "\n",
    "- MLE looks for the parameter for the optimial likelihood function\n",
    "\n",
    "> Worked well before. Using Gaussian likelihood, the MLE for the location was (weighted) average of measurements. We also used the sample variance for dispersion.\n",
    "\n",
    "- Problems with outliers when using, e.g., Gaussian likelihood\n",
    "\n",
    "> Just a few outliers can throw these estimates big time!\n"
   ]
  },
  {
   "cell_type": "markdown",
   "metadata": {},
   "source": [
    "### Location\n",
    "\n",
    "- MLE looks for the parameter for the optimial likelihood function\n",
    "\n",
    ">$\\displaystyle L(\\mu) = p(D|\\mu) = \\prod_{i=1}^n \\ell_i(\\mu)$\n",
    "\n",
    "> with $\\quad\\ell_i(\\mu) = f_0(x_i-\\mu)$\n",
    "\n",
    ">$\\displaystyle \\hat{\\mu} = \\arg \\max_{\\mu} \\prod_i f_0(x_i-\\mu)$\n",
    "\n",
    "- Very general but for the special family of functions"
   ]
  },
  {
   "cell_type": "markdown",
   "metadata": {},
   "source": [
    "### How to solve it?\n",
    "\n",
    "- Solve it as before: take its log and differentiate\n",
    "\n",
    ">$\\displaystyle \\hat{\\mu} = \\arg \\min_{\\mu} \\sum_{i=1}^n \\rho(x_i-\\mu)$\n",
    "\n",
    "> where $\\quad\\rho = -\\log f_0$\n",
    "\n",
    "- At the minimum the derivative vanishes\n",
    "\n",
    ">$\\displaystyle \\sum_{i=1}^n \\rho'(x_i-\\hat{\\mu})=0$\n",
    "\n",
    "- And that's it! Almost..."
   ]
  },
  {
   "cell_type": "markdown",
   "metadata": {},
   "source": [
    "### What $\\rho$?\n",
    "\n",
    "- For Gaussian likelihood\n",
    "\n",
    ">$\\displaystyle \\rho(t) = {t^2}/{2}$\n",
    "\n",
    "> and we have\n",
    "\n",
    ">$\\displaystyle \\sum_{i=1}^n (x_i-\\hat{\\mu})=0$\n",
    "\n",
    "- So $\\hat{\\mu}$ is the **mean** (as before)\n"
   ]
  },
  {
   "cell_type": "markdown",
   "metadata": {},
   "source": [
    "### Robust $\\rho$-function\n",
    "\n",
    "- Less sensitive to outliers, e.g.,\n",
    "\n",
    ">$\\rho(t) = |t|$\n",
    "\n",
    "> and we have\n",
    "\n",
    ">$\\displaystyle \\sum_{i=1}^n \\textrm{sgn}(x_i-\\hat{\\mu})=0$\n",
    "\n",
    "- So $\\hat{\\mu}$ is the **median** \n"
   ]
  },
  {
   "cell_type": "markdown",
   "metadata": {},
   "source": [
    "### Different $\\rho$-functions\n",
    "\n",
    "- Many possible functions to choose from, e.g., \n",
    "\n",
    "<img src=\"https://upload.wikimedia.org/wikipedia/commons/c/c1/RhoFunctions.png\" width=400 align=left \\>"
   ]
  },
  {
   "cell_type": "markdown",
   "metadata": {},
   "source": [
    "### The trick\n",
    "\n",
    "- Define a new function $W$ \n",
    "\n",
    ">$W(t) = \\rho'(t) / t$\n",
    "\n",
    "> so we have\n",
    "\n",
    ">$\\displaystyle \\sum_{i=1}^n W(x_i\\!-\\!\\hat{\\mu})\\,(x_i\\!-\\!\\hat{\\mu})=0$\n",
    "\n",
    "- If we had constant $w_i$ weights\n",
    "\n",
    ">$\\displaystyle \\sum_{i=1}^n w_i\\,(x_i\\!-\\!\\hat{\\mu})=0$\n",
    "\n",
    "> the solution would be the weighted average\n",
    "\n",
    ">$\\displaystyle \\hat{\\mu} = \\frac{\\sum w_ix_i}{\\sum w_i}$\n"
   ]
  },
  {
   "cell_type": "markdown",
   "metadata": {},
   "source": [
    "### Iterative method\n",
    "\n",
    "- Intuitive and efficient\n",
    "\n",
    ">0. Obtain initial estimate of $\\hat{\\mu}$, e.g., median\n",
    "0. Assign $w_i=W(x_i\\!-\\!\\hat{\\mu})$ weights to the measurements\n",
    "0. Calculate the weighted average\n",
    "0. Repeat steps 2 and 3 until convergence\n",
    "\n",
    "- Very fast convergence in practice"
   ]
  },
  {
   "cell_type": "markdown",
   "metadata": {},
   "source": [
    "<img src=http://research.microsoft.com/en-us/um/people/zhang/INRIA/Publis/Tutorial-Estim/img333.gif width=500 align=left \\>"
   ]
  },
  {
   "cell_type": "code",
   "execution_count": 1,
   "metadata": {
    "collapsed": false
   },
   "outputs": [
    {
     "name": "stdout",
     "output_type": "stream",
     "text": [
      "Populating the interactive namespace from numpy and matplotlib\n"
     ]
    },
    {
     "data": {
      "image/png": "[encoded data removed]",
      "text/plain": [
       "<matplotlib.figure.Figure at 0x46b3a58>"
      ]
     },
     "metadata": {},
     "output_type": "display_data"
    }
   ],
   "source": [
    "def Wc(t,c=1): # Cauchy\n",
    "    return 1 / (1 + np.square(t/c))\n",
    "\n",
    "def Wh(t,k=1): # Huber\n",
    "    w = np.ones_like(t) #ones shape like t\n",
    "    abst = np.abs(t) #abs value\n",
    "    i = (abst > k)\n",
    "    w[i] = k / abst[i]\n",
    "    return w\n",
    "\n",
    "%pylab inline\n",
    "t = np.linspace(-3,3,200); \n",
    "ylim(0, 1.1);\n",
    "[plot(t,w) for w in [Wc(t), Wh(t), Wh(t,0.5)]];"
   ]
  },
  {
   "cell_type": "code",
   "execution_count": 3,
   "metadata": {
    "collapsed": false
   },
   "outputs": [
    {
     "data": {
      "text/plain": [
       "(1.8911863410757943, -0.10991278679212746)"
      ]
     },
     "execution_count": 3,
     "metadata": {},
     "output_type": "execute_result"
    }
   ],
   "source": [
    "np.random.seed(42) #set random seed\n",
    "x = np.random.randn(100,1) #std normal random\n",
    "x[0] = 200 # outlier\n",
    "x.mean(), x[1:].mean()"
   ]
  },
  {
   "cell_type": "code",
   "execution_count": 14,
   "metadata": {
    "collapsed": false
   },
   "outputs": [
    {
     "data": {
      "text/plain": [
       "-0.096971123546659335"
      ]
     },
     "execution_count": 14,
     "metadata": {},
     "output_type": "execute_result"
    },
    {
     "data": {
      "image/png": "[encoded data removed]",
      "text/plain": [
       "<matplotlib.figure.Figure at 0x86c4588>"
      ]
     },
     "metadata": {},
     "output_type": "display_data"
    }
   ],
   "source": [
    "# iterate for robust location\n",
    "mu, w = [], np.ones_like(x)\n",
    "ilist = range(10)\n",
    "for _ in ilist: #'_'也能当变量赋值，毁三观\n",
    "    m = sum(w*x) / sum(w)\n",
    "    w = Wc(x-m)\n",
    "    mu.append(m) # save for plotting\n",
    "\n",
    "plot(ilist, mu,'ko-'); \n",
    "plot(ilist, x[1:].mean()*ones_like(mu), 'b-'); #画条水平线，'b-'形状图\n",
    "ylim(-0.2,2.2)\n",
    "m\n",
    "#x.shape"
   ]
  },
  {
   "cell_type": "markdown",
   "metadata": {},
   "source": [
    "### Dispersion\n",
    "\n",
    "- MLE looks for the parameter for the optimial likelihood function\n",
    "\n",
    ">$\\displaystyle L(\\sigma) = p(D|\\sigma) = \\prod_{i=1}^n \\ell_i(\\sigma)$\n",
    "\n",
    "> with $\\displaystyle\\quad\\ell_i(\\sigma) = \\frac{1}{\\sigma} f_0\\left(\\frac{x_i}{\\sigma}\\right)$\n",
    "\n",
    ">$\\displaystyle \\hat{\\sigma} = \\arg \\max_{\\sigma} \\frac{1}{\\sigma^n}\\prod_i f_0\\left(\\frac{x_i}{\\sigma}\\right)$\n",
    "\n",
    "- Very general but for \"scale\" family of functions"
   ]
  },
  {
   "cell_type": "markdown",
   "metadata": {},
   "source": [
    "### Influence and $\\rho$ functions\n",
    "\n",
    "- Influence function\n",
    "\n",
    ">$\\displaystyle \\psi = -f_0'/f_0$\n",
    "\n",
    "- The $\\rho$-function\n",
    "\n",
    ">$\\displaystyle \\rho(t) = t\\, \\psi(t)$\n",
    "\n"
   ]
  },
  {
   "cell_type": "markdown",
   "metadata": {},
   "source": [
    "### Optimum\n",
    "\n",
    "- Derivative vanishes at optimum $\\hat{\\sigma}$\n",
    "\n",
    ">$\\displaystyle \\frac{1}{n} \\sum_{i=1}^n \\rho\\left(\\frac{x_i}{\\hat{\\sigma}}\\right) = 1$\n",
    "\n",
    "- Often $\\rho$ is normalized s.t. it tends to 1 as the argument goes to $\\infty$\n",
    "\n",
    "> Scaling is accommodated by new parameter $\\delta$\n",
    "\n",
    ">$\\displaystyle \\frac{1}{n} \\sum_{i=1}^n \\rho\\left(\\frac{x_i}{\\hat{\\sigma}}\\right) = \\delta$\n",
    "\n",
    "> For example, $\\delta=1/2\\ $ is often used "
   ]
  },
  {
   "cell_type": "markdown",
   "metadata": {},
   "source": [
    "### What $\\rho$?\n",
    "\n",
    "- For Gaussian likelihood\n",
    "\n",
    "\n",
    ">$\\displaystyle f_0(t) = \\beta\\, e^{-t^2/2} \\quad$ \n",
    "and\n",
    "\n",
    ">$\\displaystyle f_0'(t) = -t \\ \\beta\\, e^{-t^2/2}$ \n",
    "\n",
    "> hence\n",
    "\n",
    ">$\\psi(t) = t\\quad$ and $\\quad\\rho(t)=t^2$ \n",
    "\n",
    "> and we have\n",
    "\n",
    ">$\\displaystyle \\frac{1}{n} \\sum_{i=1}^n \\left(\\frac{x_i}{\\hat{\\sigma}}\\right)^2 = 1$\n",
    "\n",
    "- So $\\hat{\\sigma}$ is the **RMS** (as before)\n",
    "\n",
    ">$\\displaystyle \\hat{\\sigma}^2 = \\frac{1}{n} \\sum_{i=1}^n x_i^2 $\n"
   ]
  },
  {
   "cell_type": "markdown",
   "metadata": {},
   "source": [
    "### The Weight\n",
    "\n",
    "- Define a new function $W$ \n",
    "\n",
    ">$ W(t) = \\left\\{ \\begin{array}{ll}\n",
    "         \\rho(t) / t^2 & \\mbox{if $t\\neq{}0$}\\\\\n",
    "         \\rho''(0) & \\mbox{if $t=0$}\\end{array} \\right.  $\n",
    "         \n",
    "> so we have\n",
    "\n",
    ">$\\displaystyle \\hat{\\sigma}^2 = \\frac{1}{n\\delta} \\sum_{i=1}^n W\\!\\left(\\frac{x_i}{\\hat{\\sigma}}\\right)\\,x_i^2$\n",
    "\n",
    "> where $\\delta$ is a new parameter\n",
    "\n",
    "- Play the same iterative trick"
   ]
  },
  {
   "cell_type": "code",
   "execution_count": 16,
   "metadata": {
    "collapsed": false
   },
   "outputs": [
    {
     "data": {
      "image/png": "[encoded data removed]",
      "text/plain": [
       "<matplotlib.figure.Figure at 0x8684f98>"
      ]
     },
     "metadata": {},
     "output_type": "display_data"
    }
   ],
   "source": [
    "def rho(t,c=1.0):\n",
    "    return c*c * 0.5 * np.log(1 + np.square(t/c))\n",
    "\n",
    "def W(t,c=1.0):\n",
    "    return rho(t,c) / np.square(t)\n",
    "\n",
    "t = np.linspace(-6,6,300); \n",
    "plot(t,W(t)); ylim(0,0.6);"
   ]
  },
  {
   "cell_type": "code",
   "execution_count": 17,
   "metadata": {
    "collapsed": false
   },
   "outputs": [
    {
     "data": {
      "text/plain": [
       "(20.020610356439452, 0.91278187530735932)"
      ]
     },
     "execution_count": 17,
     "metadata": {},
     "output_type": "execute_result"
    }
   ],
   "source": [
    "np.sqrt(np.square(x).mean()), np.sqrt(np.square(x[1:]).mean())"
   ]
  },
  {
   "cell_type": "code",
   "execution_count": 18,
   "metadata": {
    "collapsed": false
   },
   "outputs": [
    {
     "data": {
      "text/plain": [
       "(20.020610356439452, 0.9578626069648577)"
      ]
     },
     "execution_count": 18,
     "metadata": {},
     "output_type": "execute_result"
    },
    {
     "data": {
      "image/png": "[encoded data removed]",
      "text/plain": [
       "<matplotlib.figure.Figure at 0x8499630>"
      ]
     },
     "metadata": {},
     "output_type": "display_data"
    }
   ],
   "source": [
    "scale, delta = [np.sqrt(np.square(x).mean())], 0.3\n",
    "for _ in range(10):\n",
    "    w = W(x/scale[-1])\n",
    "    scale.append(np.sqrt((np.square(x)*w).mean()/delta))\n",
    "plot(scale,'ko-'); \n",
    "scale[0], scale[-1]"
   ]
  },
  {
   "cell_type": "markdown",
   "metadata": {},
   "source": [
    "<img src=\"http://t1.gstatic.com/images?q=tbn:ANd9GcTR6qV3A4eiZFuuDWwHRPZUqhWdmx5-PRlSAuaxbckx6DOMkWTT\" width=200 align=right \\>\n",
    "\n",
    "### New opportunities\n",
    "\n",
    "\n",
    "- Robust regression\n",
    "\n",
    "> Minimize robust M-scale of residuals instead of RMS\n",
    "\n",
    "- Robust PCA\n",
    "\n",
    "> Maximize robust M-scale (squared) instead of variance (Maronna 2005)"
   ]
  },
  {
   "cell_type": "code",
   "execution_count": 19,
   "metadata": {
    "collapsed": false
   },
   "outputs": [
    {
     "data": {
      "text/plain": [
       "array([[  4.00000000e+04],\n",
       "       [  1.91170170e-02],\n",
       "       [  4.19500442e-01],\n",
       "       [  2.31961994e+00],\n",
       "       [  5.48278029e-02],\n",
       "       [  5.48201146e-02],\n",
       "       [  2.49391312e+00],\n",
       "       [  5.88956064e-01],\n",
       "       [  2.20406199e-01],\n",
       "       [  2.94371401e-01],\n",
       "       [  2.14755958e-01],\n",
       "       [  2.16904203e-01],\n",
       "       [  5.85457409e-02],\n",
       "       [  3.66064129e+00],\n",
       "       [  2.97534153e+00],\n",
       "       [  3.16167266e-01],\n",
       "       [  1.02582688e+00],\n",
       "       [  9.87513860e-02],\n",
       "       [  8.24507722e-01],\n",
       "       [  1.99460174e+00],\n",
       "       [  2.14812631e+00],\n",
       "       [  5.09749379e-02],\n",
       "       [  4.56005843e-03],\n",
       "       [  2.02990739e+00],\n",
       "       [  2.96352551e-01],\n",
       "       [  1.23038209e-02],\n",
       "       [  1.32478622e+00],\n",
       "       [  1.41149001e-01],\n",
       "       [  3.60766836e-01],\n",
       "       [  8.50852437e-02],\n",
       "       [  3.62050847e-01],\n",
       "       [  3.43093447e+00],\n",
       "       [  1.82175076e-04],\n",
       "       [  1.11875241e+00],\n",
       "       [  6.76580132e-01],\n",
       "       [  1.49045922e+00],\n",
       "       [  4.36240013e-02],\n",
       "       [  3.84030699e+00],\n",
       "       [  1.76407818e+00],\n",
       "       [  3.87543462e-02],\n",
       "       [  5.45332890e-01],\n",
       "       [  2.93670878e-02],\n",
       "       [  1.33745252e-02],\n",
       "       [  9.06634355e-02],\n",
       "       [  2.18602728e+00],\n",
       "       [  5.18175684e-01],\n",
       "       [  2.12188077e-01],\n",
       "       [  1.11750740e+00],\n",
       "       [  1.18073529e-01],\n",
       "       [  3.10831059e+00],\n",
       "       [  1.05030419e-01],\n",
       "       [  1.48288363e-01],\n",
       "       [  4.58223394e-01],\n",
       "       [  3.74147882e-01],\n",
       "       [  1.06296002e+00],\n",
       "       [  8.67282660e-01],\n",
       "       [  7.04286051e-01],\n",
       "       [  9.56122934e-02],\n",
       "       [  1.09735461e-01],\n",
       "       [  9.51688295e-01],\n",
       "       [  2.29607950e-01],\n",
       "       [  3.44692556e-02],\n",
       "       [  1.22397707e+00],\n",
       "       [  1.43091029e+00],\n",
       "       [  6.60198212e-01],\n",
       "       [  1.83938702e+00],\n",
       "       [  5.18545761e-03],\n",
       "       [  1.00707828e+00],\n",
       "       [  1.30780615e-01],\n",
       "       [  4.16179498e-01],\n",
       "       [  1.30606784e-01],\n",
       "       [  2.36555648e+00],\n",
       "       [  1.28350508e-03],\n",
       "       [  2.44810977e+00],\n",
       "       [  6.86306441e+00],\n",
       "       [  6.75523727e-01],\n",
       "       [  7.57719209e-03],\n",
       "       [  8.94053956e-02],\n",
       "       [  8.42004011e-03],\n",
       "       [  3.95043019e+00],\n",
       "       [  4.82557383e-02],\n",
       "       [  1.27529389e-01],\n",
       "       [  2.18417081e+00],\n",
       "       [  2.68604019e-01],\n",
       "       [  6.53661906e-01],\n",
       "       [  2.51760131e-01],\n",
       "       [  8.37961037e-01],\n",
       "       [  1.08077292e-01],\n",
       "       [  2.80645873e-01],\n",
       "       [  2.63443458e-01],\n",
       "       [  9.42405059e-03],\n",
       "       [  9.38273118e-01],\n",
       "       [  4.92878547e-01],\n",
       "       [  1.07362482e-01],\n",
       "       [  1.53748804e-01],\n",
       "       [  2.14187600e+00],\n",
       "       [  8.76872185e-02],\n",
       "       [  6.81498551e-02],\n",
       "       [  2.61474388e-05],\n",
       "       [  5.50311231e-02]])"
      ]
     },
     "execution_count": 19,
     "metadata": {},
     "output_type": "execute_result"
    }
   ],
   "source": []
  },
  {
   "cell_type": "code",
   "execution_count": null,
   "metadata": {
    "collapsed": true
   },
   "outputs": [],
   "source": []
  }
 ],
 "metadata": {
  "kernelspec": {
   "display_name": "Python [Root]",
   "language": "python",
   "name": "Python [Root]"
  },
  "language_info": {
   "codemirror_mode": {
    "name": "ipython",
    "version": 2
   },
   "file_extension": ".py",
   "mimetype": "text/x-python",
   "name": "python",
   "nbconvert_exporter": "python",
   "pygments_lexer": "ipython2",
   "version": "2.7.12"
  }
 },
 "nbformat": 4,
 "nbformat_minor": 0
}
