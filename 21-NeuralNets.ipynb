{
 "cells": [
  {
   "cell_type": "markdown",
   "metadata": {
    "slideshow": {
     "slide_type": "slide"
    }
   },
   "source": [
    "<hr/>\n",
    "\n",
    "# Data Mining [EN.550.436]\n",
    "**Tamás Budavári** - budavari@jhu.edu <br/>\n",
    "**Class 21** - November 28, 2016\n",
    "\n",
    "- Self-organizing maps\n",
    "- Neural networks\n",
    "\n",
    "<hr/>"
   ]
  },
  {
   "cell_type": "markdown",
   "metadata": {},
   "source": [
    "## Self-Organizing Maps aka Kohonen Networks\n",
    "\n",
    "- Unsupervised learning of low-dimensional representation, e.g., for visualization\n",
    "\n",
    "> A $d$ dimensional grid is gradualy adjusted to fit the data\n",
    "\n",
    "<img src=http://mathworld.wolfram.com/images/eps-gif/GridGraph_701.gif align=left width=230>\n",
    "<img src=http://farm3.static.flickr.com/2762/4288819804_7c3e34a1cb.jpg align=center width=200>\n"
   ]
  },
  {
   "cell_type": "markdown",
   "metadata": {},
   "source": [
    "## Algorithms\n",
    "\n",
    "- Learning\n",
    "\n",
    ">0. Each point is assigned to closest grid point\n",
    ">0. Winning grid point is adjusted as well as its neighbors\n",
    ">0. Repeat till convergence\n",
    "\n",
    "- Mapping\n",
    "\n",
    ">0. Find closest grid point \n",
    ">0. Or interpolation\n",
    "\n",
    "<img src=https://upload.wikimedia.org/wikipedia/commons/thumb/9/91/Somtraining.svg/750px-Somtraining.svg.png align=left width=400>"
   ]
  },
  {
   "cell_type": "markdown",
   "metadata": {},
   "source": [
    "\n",
    "## Animation\n",
    "\n",
    "<a href=\"http://www.youtube.com/watch?v=aQkIg69ZAXs\"><img src=\"http://img.youtube.com/vi/aQkIg69ZAXs/0.jpg\" align=left width=300></a>"
   ]
  },
  {
   "cell_type": "markdown",
   "metadata": {},
   "source": [
    "## Assumes shape\n",
    "\n",
    "- E.g., 1-D grid becomes a \"principal curve\"\n",
    "\n",
    "<img src=https://upload.wikimedia.org/wikipedia/commons/b/bb/SOMsPCA.PNG align=left width=230>"
   ]
  },
  {
   "cell_type": "markdown",
   "metadata": {},
   "source": [
    "## Limitations\n",
    "\n",
    "- Random initialization could get the grid entangled\n",
    "\n",
    "> Hard to disentangle it!\n",
    "\n",
    "- Best bet is to detect and abandon for another init"
   ]
  },
  {
   "cell_type": "markdown",
   "metadata": {},
   "source": [
    "## Artificial Neural Networks\n",
    "\n",
    "- Supervised learning of nonlinear relations\n",
    "\n",
    "> Classic example is ```XOR``` (eXclusive OR)\n",
    "\n",
    "- Modeled after neurons and synapses of the brain\n",
    "\n",
    "> Connected nodes determine each others value"
   ]
  },
  {
   "cell_type": "markdown",
   "metadata": {},
   "source": [
    "## Nonlinear Problem\n",
    "\n",
    "- Exclusive OR\n",
    "\n",
    "<img src=http://www.saedsayad.com/images/Perceptron_XOR.png align=left width=300>"
   ]
  },
  {
   "cell_type": "markdown",
   "metadata": {},
   "source": [
    "## Layers\n",
    "\n",
    "- Simplest case: input-hidden-output (also a *bias* node)\n",
    "\n",
    "<!--\n",
    "<img src=http://www.codeproject.com/KB/dotnet/predictor/network.jpg align=left width=350>\n",
    "<img src=https://upload.wikimedia.org/wikipedia/commons/thumb/4/46/Colored_neural_network.svg/300px-Colored_neural_network.svg.png align=left width=200>-->\n",
    "\n",
    "<img src=files/network.jpg align=left width=350>\n",
    "\n",
    "\n"
   ]
  },
  {
   "cell_type": "markdown",
   "metadata": {},
   "source": [
    "## Each Neuron\n",
    "\n",
    "- Add inputs and apply an *activation* function\n",
    "\n",
    "> E.g., nonlinear *sigmoid* function\n",
    "\n",
    "> Cf. posterior probability and Bayes factor\n",
    "\n",
    "&nbsp;\n",
    "\n",
    "<img src=http://jmvidal.cse.sc.edu/talks/ann/ann-sigmoid.png align=left width=400>"
   ]
  },
  {
   "cell_type": "markdown",
   "metadata": {},
   "source": [
    "## ANN for XOR\n",
    "\n",
    "- For example,\n",
    "\n",
    "<img src=http://www.doc.ic.ac.uk/~nd/surprise_96/journal/vol2/cs11/article2.xor2.jpg align=left width=150>\n",
    "\n",
    "<!--<img src=http://www.cs.vassar.edu/~weltyc/oldcourses/cogsci100.98f/img001.jpg align=left width=500>\n",
    "\n",
    "<img src=https://www.byclb.com/TR/Tutorials/neural_networks/ch8_1_dosyalar/image072.jpg align=left width=150> -->"
   ]
  },
  {
   "cell_type": "markdown",
   "metadata": {},
   "source": [
    "## Check this out\n",
    "\n",
    "- Does this work with activation functions\n",
    "\n",
    "> $I(x)=x$ (identity) or\n",
    "\n",
    "> $H(x)=1$ if $x\\!>\\!0$ and $0$ otherwise?\n",
    "\n",
    "<img src=https://encrypted-tbn3.gstatic.com/images?q=tbn:ANd9GcQL-LhbCs9XCG7g0kKeiJh3fs27plP04FgmXd8OWjezvwNSU9Fzmw align=left width=200>"
   ]
  },
  {
   "cell_type": "markdown",
   "metadata": {},
   "source": [
    "## Learning the Weights\n",
    "\n",
    "- Backpropagation algorithm\n",
    "\n",
    "> Change weights to minimize the error <br>\n",
    "> knowing the function and its derivatives"
   ]
  },
  {
   "cell_type": "markdown",
   "metadata": {},
   "source": [
    "## Using sklearn\n",
    "http://scikit-learn.org/stable/modules/neural_networks_supervised.html"
   ]
  },
  {
   "cell_type": "code",
   "execution_count": 1,
   "metadata": {
    "collapsed": false
   },
   "outputs": [
    {
     "name": "stdout",
     "output_type": "stream",
     "text": [
      "Populating the interactive namespace from numpy and matplotlib\n"
     ]
    }
   ],
   "source": [
    "%pylab inline"
   ]
  },
  {
   "cell_type": "code",
   "execution_count": 117,
   "metadata": {
    "collapsed": false
   },
   "outputs": [
    {
     "data": {
      "text/plain": [
       "array([0, 0, 1, 1])"
      ]
     },
     "execution_count": 117,
     "metadata": {},
     "output_type": "execute_result"
    }
   ],
   "source": [
    "from sklearn.neural_network import MLPClassifier\n",
    "\n",
    "# XOR example\n",
    "X = [[0,0], [1,1], [0,1], [1,0]]\n",
    "y = [0, 0, 1, 1]\n",
    "\n",
    "clf = MLPClassifier(hidden_layer_sizes=(2,), \n",
    "                    activation='logistic', solver='lbfgs')\n",
    "clf.fit(X,y)\n",
    "clf.predict(X)"
   ]
  },
  {
   "cell_type": "code",
   "execution_count": 3,
   "metadata": {
    "collapsed": false
   },
   "outputs": [
    {
     "name": "stdout",
     "output_type": "stream",
     "text": [
      "--> 0 [ 4.03893429  3.39610882]\n",
      "[[-6.93514317  6.33063689]\n",
      " [ 6.23865659 -6.06701591]]\n",
      "\n",
      "--> 1 [ 21.62750533]\n",
      "[[-14.29139751]\n",
      " [-14.55103646]]\n",
      "\n"
     ]
    }
   ],
   "source": [
    "for layer in range(len(clf.coefs_)):\n",
    "    print '-->', layer, clf.intercepts_[layer]\n",
    "    print clf.coefs_[layer]\n",
    "    print"
   ]
  },
  {
   "cell_type": "markdown",
   "metadata": {},
   "source": [
    "## Deep Learning\n",
    "- Many layers\n",
    "- Special architecture"
   ]
  },
  {
   "cell_type": "markdown",
   "metadata": {},
   "source": [
    "<img src=\"http://deeplearning.net/tutorial/_images/mylenet.png\" width=600 align=left>"
   ]
  }
 ],
 "metadata": {
  "kernelspec": {
   "display_name": "Python [Root]",
   "language": "python",
   "name": "Python [Root]"
  },
  "language_info": {
   "codemirror_mode": {
    "name": "ipython",
    "version": 2
   },
   "file_extension": ".py",
   "mimetype": "text/x-python",
   "name": "python",
   "nbconvert_exporter": "python",
   "pygments_lexer": "ipython2",
   "version": "2.7.12"
  }
 },
 "nbformat": 4,
 "nbformat_minor": 0
}
